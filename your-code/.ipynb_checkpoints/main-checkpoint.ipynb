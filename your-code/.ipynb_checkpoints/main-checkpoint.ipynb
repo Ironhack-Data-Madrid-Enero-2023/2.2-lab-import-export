{
 "cells": [
  {
   "cell_type": "markdown",
   "metadata": {
    "toc": true
   },
   "source": [
    "<h1>Table of Contents<span class=\"tocSkip\"></span></h1>\n",
    "<div class=\"toc\"><ul class=\"toc-item\"><li><span><a href=\"#Before-your-start:\" data-toc-modified-id=\"Before-your-start:-1\"><span class=\"toc-item-num\">1&nbsp;&nbsp;</span>Before your start:</a></span></li><li><span><a href=\"#Challenge-1---Working-with-JSON-files\" data-toc-modified-id=\"Challenge-1---Working-with-JSON-files-2\"><span class=\"toc-item-num\">2&nbsp;&nbsp;</span>Challenge 1 - Working with JSON files</a></span><ul class=\"toc-item\"><li><ul class=\"toc-item\"><li><ul class=\"toc-item\"><li><span><a href=\"#After-importing-pandas,-let's-find-a-dataset.-In-this-lesson-we-will-be-working-with-a-NASA-dataset.\" data-toc-modified-id=\"After-importing-pandas,-let's-find-a-dataset.-In-this-lesson-we-will-be-working-with-a-NASA-dataset.-2.0.0.1\"><span class=\"toc-item-num\">2.0.0.1&nbsp;&nbsp;</span>After importing pandas, let's find a dataset. In this lesson we will be working with a NASA dataset.</a></span></li><li><span><a href=\"#The-value_counts()-function-is-commonly-used-in-pandas-to-find-the-frequency-of-every-value-in-a-column.\" data-toc-modified-id=\"The-value_counts()-function-is-commonly-used-in-pandas-to-find-the-frequency-of-every-value-in-a-column.-2.0.0.2\"><span class=\"toc-item-num\">2.0.0.2&nbsp;&nbsp;</span>The <code>value_counts()</code> function is commonly used in pandas to find the frequency of every value in a column.</a></span></li></ul></li></ul></li></ul></li><li><span><a href=\"#Challenge-2---Working-with-CSV-and-Other-Separated-Files\" data-toc-modified-id=\"Challenge-2---Working-with-CSV-and-Other-Separated-Files-3\"><span class=\"toc-item-num\">3&nbsp;&nbsp;</span>Challenge 2 - Working with CSV and Other Separated Files</a></span></li><li><span><a href=\"#Challenge-3---Working-with-Excel-Files\" data-toc-modified-id=\"Challenge-3---Working-with-Excel-Files-4\"><span class=\"toc-item-num\">4&nbsp;&nbsp;</span>Challenge 3 - Working with Excel Files</a></span></li><li><span><a href=\"#Bonus-Challenge---Fertility-Dataset\" data-toc-modified-id=\"Bonus-Challenge---Fertility-Dataset-5\"><span class=\"toc-item-num\">5&nbsp;&nbsp;</span>Bonus Challenge - Fertility Dataset</a></span></li></ul></div>"
   ]
  },
  {
   "cell_type": "markdown",
   "metadata": {},
   "source": [
    "# Before your start:\n",
    "- Read the README.md file\n",
    "- Comment as much as you can and use the resources in the README.md file\n",
    "- Happy learning!"
   ]
  },
  {
   "cell_type": "markdown",
   "metadata": {},
   "source": [
    "# Challenge 1 - Working with JSON files\n",
    "\n",
    "Import the pandas library"
   ]
  },
  {
   "cell_type": "code",
   "execution_count": 1,
   "metadata": {},
   "outputs": [],
   "source": [
    "# Your import here:\n",
    "import pandas as pd"
   ]
  },
  {
   "cell_type": "markdown",
   "metadata": {},
   "source": [
    "####  After importing pandas, let's find a dataset. In this lesson we will be working with a NASA dataset.\n",
    "\n",
    "Run the code in the cell below to load the dataset containing information about asteroids that have landed on earth. This piece of code helps us open the URL for the dataset and deocde the data using UTF-8."
   ]
  },
  {
   "cell_type": "code",
   "execution_count": 2,
   "metadata": {},
   "outputs": [],
   "source": [
    "# Run this code\n",
    "\n",
    "from urllib.request import urlopen\n",
    "import json\n",
    "# Con la librería request cargo los datos de una url \n",
    "response = urlopen(\"https://data.nasa.gov/resource/y77d-th95.json\")\n",
    "json_data = response.read().decode('utf-8', 'replace')"
   ]
  },
  {
   "cell_type": "markdown",
   "metadata": {},
   "source": [
    "In the next cell, load the data in `json_data` and load it into a pandas dataframe. Name the dataframe `nasa`."
   ]
  },
  {
   "cell_type": "code",
   "execution_count": 3,
   "metadata": {},
   "outputs": [],
   "source": [
    "# Para trabajar con jsons, tengo que convertir el data en json si viene en un formato sucio\n",
    "info = json.loads(json_data)"
   ]
  },
  {
   "cell_type": "code",
   "execution_count": 4,
   "metadata": {},
   "outputs": [],
   "source": [
    "nasa = pd.json_normalize(info)"
   ]
  },
  {
   "cell_type": "code",
   "execution_count": 5,
   "metadata": {},
   "outputs": [],
   "source": [
    "# Se puede obtener la ruta completa con pwd en bash desde la carpeta donde se encuentre el archivo"
   ]
  },
  {
   "cell_type": "code",
   "execution_count": 6,
   "metadata": {},
   "outputs": [],
   "source": [
    "# /home/paula/Labs/2.2-lab-import-export/your-code"
   ]
  },
  {
   "cell_type": "code",
   "execution_count": 7,
   "metadata": {},
   "outputs": [],
   "source": [
    "nasa = pd.read_json('nasa.json')"
   ]
  },
  {
   "cell_type": "markdown",
   "metadata": {},
   "source": [
    "Now that we have loaded the data, let's examine it using the `head()` function."
   ]
  },
  {
   "cell_type": "code",
   "execution_count": 8,
   "metadata": {},
   "outputs": [
    {
     "data": {
      "text/html": [
       "<div>\n",
       "<style scoped>\n",
       "    .dataframe tbody tr th:only-of-type {\n",
       "        vertical-align: middle;\n",
       "    }\n",
       "\n",
       "    .dataframe tbody tr th {\n",
       "        vertical-align: top;\n",
       "    }\n",
       "\n",
       "    .dataframe thead th {\n",
       "        text-align: right;\n",
       "    }\n",
       "</style>\n",
       "<table border=\"1\" class=\"dataframe\">\n",
       "  <thead>\n",
       "    <tr style=\"text-align: right;\">\n",
       "      <th></th>\n",
       "      <th>:@computed_region_cbhk_fwbd</th>\n",
       "      <th>:@computed_region_nnqa_25f4</th>\n",
       "      <th>fall</th>\n",
       "      <th>geolocation</th>\n",
       "      <th>id</th>\n",
       "      <th>mass</th>\n",
       "      <th>name</th>\n",
       "      <th>nametype</th>\n",
       "      <th>recclass</th>\n",
       "      <th>reclat</th>\n",
       "      <th>reclong</th>\n",
       "      <th>year</th>\n",
       "    </tr>\n",
       "  </thead>\n",
       "  <tbody>\n",
       "    <tr>\n",
       "      <th>0</th>\n",
       "      <td>NaN</td>\n",
       "      <td>NaN</td>\n",
       "      <td>Fell</td>\n",
       "      <td>{'type': 'Point', 'coordinates': [6.08333, 50....</td>\n",
       "      <td>1</td>\n",
       "      <td>21.0</td>\n",
       "      <td>Aachen</td>\n",
       "      <td>Valid</td>\n",
       "      <td>L5</td>\n",
       "      <td>50.775</td>\n",
       "      <td>6.08333</td>\n",
       "      <td>1880-01-01T00:00:00.000</td>\n",
       "    </tr>\n",
       "  </tbody>\n",
       "</table>\n",
       "</div>"
      ],
      "text/plain": [
       "   :@computed_region_cbhk_fwbd  :@computed_region_nnqa_25f4  fall  \\\n",
       "0                          NaN                          NaN  Fell   \n",
       "\n",
       "                                         geolocation  id  mass    name  \\\n",
       "0  {'type': 'Point', 'coordinates': [6.08333, 50....   1  21.0  Aachen   \n",
       "\n",
       "  nametype recclass  reclat  reclong                     year  \n",
       "0    Valid       L5  50.775  6.08333  1880-01-01T00:00:00.000  "
      ]
     },
     "execution_count": 8,
     "metadata": {},
     "output_type": "execute_result"
    }
   ],
   "source": [
    "nasa.head(1)\n"
   ]
  },
  {
   "cell_type": "markdown",
   "metadata": {},
   "source": [
    "#### The `value_counts()` function is commonly used in pandas to find the frequency of every value in a column.\n",
    "\n",
    "In the cell below, use the `value_counts()` function to determine the frequency of all types of asteroid landings by applying the function to the `fall` column."
   ]
  },
  {
   "cell_type": "code",
   "execution_count": 9,
   "metadata": {},
   "outputs": [
    {
     "data": {
      "text/plain": [
       "fall\n",
       "Fell     996\n",
       "Found      4\n",
       "dtype: int64"
      ]
     },
     "execution_count": 9,
     "metadata": {},
     "output_type": "execute_result"
    }
   ],
   "source": [
    "nasa.value_counts('fall')"
   ]
  },
  {
   "cell_type": "code",
   "execution_count": 10,
   "metadata": {},
   "outputs": [
    {
     "data": {
      "text/plain": [
       "pandas.core.frame.DataFrame"
      ]
     },
     "execution_count": 10,
     "metadata": {},
     "output_type": "execute_result"
    }
   ],
   "source": [
    "type(nasa)"
   ]
  },
  {
   "cell_type": "markdown",
   "metadata": {},
   "source": [
    "Finally, let's save the dataframe as a json file again. Since we downloaded the file from an online source, the goal of saving the dataframe is to have a local copy. Save the dataframe using the `orient=records` argument and name the file `nasa.json`."
   ]
  },
  {
   "cell_type": "code",
   "execution_count": 11,
   "metadata": {},
   "outputs": [],
   "source": [
    "nasa.to_json('./nasa.json')"
   ]
  },
  {
   "cell_type": "code",
   "execution_count": 12,
   "metadata": {},
   "outputs": [],
   "source": [
    "nasa = pd.read_json(orient='records', path_or_buf='./nasa.json')"
   ]
  },
  {
   "cell_type": "code",
   "execution_count": 13,
   "metadata": {},
   "outputs": [],
   "source": [
    "#nasa.head(1)"
   ]
  },
  {
   "cell_type": "markdown",
   "metadata": {},
   "source": [
    "# Challenge 2 - Working with CSV and Other Separated Files\n",
    "\n",
    "csv files are more commonly used as dataframes. In the cell below, load the file from the URL provided using the `read_csv()` function in pandas. Starting version 0.19 of pandas, you can load a csv file into a dataframe directly from a URL without having to load the file first like we did with the JSON URL. The dataset we will be using contains informtaions about NASA shuttles. \n",
    "\n",
    "In the cell below, we define the column names and the URL of the data. Following this cell, read the tst file to a variable called `shuttle`. Since the file does not contain the column names, you must add them yourself using the column names declared in `cols` using the `names` argument. Additionally, a tst file is space separated, make sure you pass ` sep=' '` to the function."
   ]
  },
  {
   "cell_type": "code",
   "execution_count": 14,
   "metadata": {},
   "outputs": [],
   "source": [
    "# Run this code:\n",
    "\n",
    "cols = ['time', 'rad_flow', 'fpv_close', 'fpv_open', 'high', 'bypass', 'bpv_close', 'bpv_open', 'class', '']\n",
    "tst_url = 'https://archive.ics.uci.edu/ml/machine-learning-databases/statlog/shuttle/shuttle.tst'"
   ]
  },
  {
   "cell_type": "code",
   "execution_count": 15,
   "metadata": {},
   "outputs": [],
   "source": [
    "shuttle = pd.read_csv(tst_url, names=cols, sep=' ')"
   ]
  },
  {
   "cell_type": "markdown",
   "metadata": {},
   "source": [
    "Let's verify that this worked by looking at the `head()` function."
   ]
  },
  {
   "cell_type": "code",
   "execution_count": 16,
   "metadata": {},
   "outputs": [
    {
     "data": {
      "text/html": [
       "<div>\n",
       "<style scoped>\n",
       "    .dataframe tbody tr th:only-of-type {\n",
       "        vertical-align: middle;\n",
       "    }\n",
       "\n",
       "    .dataframe tbody tr th {\n",
       "        vertical-align: top;\n",
       "    }\n",
       "\n",
       "    .dataframe thead th {\n",
       "        text-align: right;\n",
       "    }\n",
       "</style>\n",
       "<table border=\"1\" class=\"dataframe\">\n",
       "  <thead>\n",
       "    <tr style=\"text-align: right;\">\n",
       "      <th></th>\n",
       "      <th>time</th>\n",
       "      <th>rad_flow</th>\n",
       "      <th>fpv_close</th>\n",
       "      <th>fpv_open</th>\n",
       "      <th>high</th>\n",
       "      <th>bypass</th>\n",
       "      <th>bpv_close</th>\n",
       "      <th>bpv_open</th>\n",
       "      <th>class</th>\n",
       "      <th></th>\n",
       "    </tr>\n",
       "  </thead>\n",
       "  <tbody>\n",
       "    <tr>\n",
       "      <th>0</th>\n",
       "      <td>55</td>\n",
       "      <td>0</td>\n",
       "      <td>81</td>\n",
       "      <td>0</td>\n",
       "      <td>-6</td>\n",
       "      <td>11</td>\n",
       "      <td>25</td>\n",
       "      <td>88</td>\n",
       "      <td>64</td>\n",
       "      <td>4</td>\n",
       "    </tr>\n",
       "    <tr>\n",
       "      <th>1</th>\n",
       "      <td>56</td>\n",
       "      <td>0</td>\n",
       "      <td>96</td>\n",
       "      <td>0</td>\n",
       "      <td>52</td>\n",
       "      <td>-4</td>\n",
       "      <td>40</td>\n",
       "      <td>44</td>\n",
       "      <td>4</td>\n",
       "      <td>4</td>\n",
       "    </tr>\n",
       "    <tr>\n",
       "      <th>2</th>\n",
       "      <td>50</td>\n",
       "      <td>-1</td>\n",
       "      <td>89</td>\n",
       "      <td>-7</td>\n",
       "      <td>50</td>\n",
       "      <td>0</td>\n",
       "      <td>39</td>\n",
       "      <td>40</td>\n",
       "      <td>2</td>\n",
       "      <td>1</td>\n",
       "    </tr>\n",
       "    <tr>\n",
       "      <th>3</th>\n",
       "      <td>53</td>\n",
       "      <td>9</td>\n",
       "      <td>79</td>\n",
       "      <td>0</td>\n",
       "      <td>42</td>\n",
       "      <td>-2</td>\n",
       "      <td>25</td>\n",
       "      <td>37</td>\n",
       "      <td>12</td>\n",
       "      <td>4</td>\n",
       "    </tr>\n",
       "    <tr>\n",
       "      <th>4</th>\n",
       "      <td>55</td>\n",
       "      <td>2</td>\n",
       "      <td>82</td>\n",
       "      <td>0</td>\n",
       "      <td>54</td>\n",
       "      <td>-6</td>\n",
       "      <td>26</td>\n",
       "      <td>28</td>\n",
       "      <td>2</td>\n",
       "      <td>1</td>\n",
       "    </tr>\n",
       "  </tbody>\n",
       "</table>\n",
       "</div>"
      ],
      "text/plain": [
       "   time  rad_flow  fpv_close  fpv_open  high  bypass  bpv_close  bpv_open  \\\n",
       "0    55         0         81         0    -6      11         25        88   \n",
       "1    56         0         96         0    52      -4         40        44   \n",
       "2    50        -1         89        -7    50       0         39        40   \n",
       "3    53         9         79         0    42      -2         25        37   \n",
       "4    55         2         82         0    54      -6         26        28   \n",
       "\n",
       "   class     \n",
       "0     64  4  \n",
       "1      4  4  \n",
       "2      2  1  \n",
       "3     12  4  \n",
       "4      2  1  "
      ]
     },
     "execution_count": 16,
     "metadata": {},
     "output_type": "execute_result"
    }
   ],
   "source": [
    "shuttle.head()"
   ]
  },
  {
   "cell_type": "markdown",
   "metadata": {},
   "source": [
    "To make life easier for us, let's turn this dataframe into a comma separated file by saving it using the `to_csv()` function. Save `shuttle` into the file `shuttle.csv` and ensure the file is comma separated and that we are not saving the index column."
   ]
  },
  {
   "cell_type": "code",
   "execution_count": 17,
   "metadata": {},
   "outputs": [],
   "source": [
    "shuttle.to_csv('./shuttle.csv')"
   ]
  },
  {
   "cell_type": "markdown",
   "metadata": {},
   "source": [
    "# Challenge 3 - Working with Excel Files\n",
    "\n",
    "We can also use pandas to convert excel spreadsheets to dataframes. Let's use the `read_excel()` function. In this case, `astronauts.xls` is in the same folder that contains this notebook. Read this file into a variable called `astronaut`. \n",
    "\n",
    "Note: Make sure to install the `xlrd` library if it is not yet installed."
   ]
  },
  {
   "cell_type": "markdown",
   "metadata": {},
   "source": [
    "Use the `head()` function to inspect the dataframe."
   ]
  },
  {
   "cell_type": "code",
   "execution_count": 18,
   "metadata": {},
   "outputs": [
    {
     "data": {
      "text/html": [
       "<div>\n",
       "<style scoped>\n",
       "    .dataframe tbody tr th:only-of-type {\n",
       "        vertical-align: middle;\n",
       "    }\n",
       "\n",
       "    .dataframe tbody tr th {\n",
       "        vertical-align: top;\n",
       "    }\n",
       "\n",
       "    .dataframe thead th {\n",
       "        text-align: right;\n",
       "    }\n",
       "</style>\n",
       "<table border=\"1\" class=\"dataframe\">\n",
       "  <thead>\n",
       "    <tr style=\"text-align: right;\">\n",
       "      <th></th>\n",
       "      <th>Name</th>\n",
       "      <th>Year</th>\n",
       "      <th>Group</th>\n",
       "      <th>Status</th>\n",
       "      <th>Birth Date</th>\n",
       "      <th>Birth Place</th>\n",
       "      <th>Gender</th>\n",
       "      <th>Alma Mater</th>\n",
       "      <th>Undergraduate Major</th>\n",
       "      <th>Graduate Major</th>\n",
       "      <th>Military Rank</th>\n",
       "      <th>Military Branch</th>\n",
       "      <th>Space Flights</th>\n",
       "      <th>Space Flight (hr)</th>\n",
       "      <th>Space Walks</th>\n",
       "      <th>Space Walks (hr)</th>\n",
       "      <th>Missions</th>\n",
       "      <th>Death Date</th>\n",
       "      <th>Death Mission</th>\n",
       "    </tr>\n",
       "  </thead>\n",
       "  <tbody>\n",
       "    <tr>\n",
       "      <th>0</th>\n",
       "      <td>Joseph M. Acaba</td>\n",
       "      <td>2004.0</td>\n",
       "      <td>19.0</td>\n",
       "      <td>Active</td>\n",
       "      <td>1967-05-17</td>\n",
       "      <td>Inglewood, CA</td>\n",
       "      <td>Male</td>\n",
       "      <td>University of California-Santa Barbara; Univer...</td>\n",
       "      <td>Geology</td>\n",
       "      <td>Geology</td>\n",
       "      <td>NaN</td>\n",
       "      <td>NaN</td>\n",
       "      <td>2</td>\n",
       "      <td>3307</td>\n",
       "      <td>2</td>\n",
       "      <td>13.0</td>\n",
       "      <td>STS-119 (Discovery), ISS-31/32 (Soyuz)</td>\n",
       "      <td>NaT</td>\n",
       "      <td>NaN</td>\n",
       "    </tr>\n",
       "  </tbody>\n",
       "</table>\n",
       "</div>"
      ],
      "text/plain": [
       "              Name    Year  Group  Status Birth Date    Birth Place Gender  \\\n",
       "0  Joseph M. Acaba  2004.0   19.0  Active 1967-05-17  Inglewood, CA   Male   \n",
       "\n",
       "                                          Alma Mater Undergraduate Major  \\\n",
       "0  University of California-Santa Barbara; Univer...             Geology   \n",
       "\n",
       "  Graduate Major Military Rank Military Branch  Space Flights  \\\n",
       "0        Geology           NaN             NaN              2   \n",
       "\n",
       "   Space Flight (hr)  Space Walks  Space Walks (hr)  \\\n",
       "0               3307            2              13.0   \n",
       "\n",
       "                                 Missions Death Date Death Mission  \n",
       "0  STS-119 (Discovery), ISS-31/32 (Soyuz)        NaT           NaN  "
      ]
     },
     "execution_count": 18,
     "metadata": {},
     "output_type": "execute_result"
    }
   ],
   "source": [
    "# xlrd library está instalada\n",
    "astronaut = pd.read_excel('astronauts.xls')\n",
    "astronaut.head(1)"
   ]
  },
  {
   "cell_type": "markdown",
   "metadata": {},
   "source": [
    "Use the `value_counts()` function to find the most popular undergraduate major among all astronauts."
   ]
  },
  {
   "cell_type": "code",
   "execution_count": 24,
   "metadata": {},
   "outputs": [
    {
     "data": {
      "text/plain": [
       "Undergraduate Major\n",
       "Physics                                  35\n",
       "Aerospace Engineering                    33\n",
       "Mechanical Engineering                   30\n",
       "Aeronautical Engineering                 28\n",
       "Electrical Engineering                   23\n",
       "                                         ..\n",
       "Marine Engineering & Nautical Science     1\n",
       "Mathematical & Electrical Science         1\n",
       "Biochemistry                              1\n",
       "Mathematics & Economics                   1\n",
       "Accounting                                1\n",
       "Length: 83, dtype: int64"
      ]
     },
     "execution_count": 24,
     "metadata": {},
     "output_type": "execute_result"
    }
   ],
   "source": [
    "astronaut.value_counts('Undergraduate Major')"
   ]
  },
  {
   "cell_type": "markdown",
   "metadata": {},
   "source": [
    "Due to all the commas present in the cells of this file, let's save it as a tab separated csv file. In the cell below, save `astronaut` as a tab separated file using the `to_csv` function. Call the file `astronaut.csv` and remember to remove the index column."
   ]
  },
  {
   "cell_type": "code",
   "execution_count": 26,
   "metadata": {},
   "outputs": [],
   "source": [
    "astronaut.to_csv('./astronaut.csv')"
   ]
  },
  {
   "cell_type": "markdown",
   "metadata": {},
   "source": [
    "# Bonus Challenge - Fertility Dataset\n",
    "\n",
    "Visit the following [URL](https://archive.ics.uci.edu/ml/datasets/Fertility) and retrieve the dataset as well as the column headers. Determine the correct separator and read the file into a variable called `fertility`. Examine the dataframe using the `head()` function."
   ]
  },
  {
   "cell_type": "code",
   "execution_count": 38,
   "metadata": {},
   "outputs": [],
   "source": [
    "#Me han echado un cable para este lab, menos mal que no ha sido al cuello (pero casi)."
   ]
  },
  {
   "cell_type": "code",
   "execution_count": 35,
   "metadata": {},
   "outputs": [],
   "source": [
    "url = 'https://archive.ics.uci.edu/ml/machine-learning-databases/00244/fertility_Diagnosis.txt' \n",
    "fertility = pd.read_csv(url, sep=',')"
   ]
  },
  {
   "cell_type": "code",
   "execution_count": 36,
   "metadata": {},
   "outputs": [
    {
     "data": {
      "text/html": [
       "<div>\n",
       "<style scoped>\n",
       "    .dataframe tbody tr th:only-of-type {\n",
       "        vertical-align: middle;\n",
       "    }\n",
       "\n",
       "    .dataframe tbody tr th {\n",
       "        vertical-align: top;\n",
       "    }\n",
       "\n",
       "    .dataframe thead th {\n",
       "        text-align: right;\n",
       "    }\n",
       "</style>\n",
       "<table border=\"1\" class=\"dataframe\">\n",
       "  <thead>\n",
       "    <tr style=\"text-align: right;\">\n",
       "      <th></th>\n",
       "      <th>-0.33</th>\n",
       "      <th>0.69</th>\n",
       "      <th>0</th>\n",
       "      <th>1</th>\n",
       "      <th>1.1</th>\n",
       "      <th>0.1</th>\n",
       "      <th>0.8</th>\n",
       "      <th>0.2</th>\n",
       "      <th>0.88</th>\n",
       "      <th>N</th>\n",
       "    </tr>\n",
       "  </thead>\n",
       "  <tbody>\n",
       "    <tr>\n",
       "      <th>0</th>\n",
       "      <td>-0.33</td>\n",
       "      <td>0.94</td>\n",
       "      <td>1</td>\n",
       "      <td>0</td>\n",
       "      <td>1</td>\n",
       "      <td>0</td>\n",
       "      <td>0.8</td>\n",
       "      <td>1</td>\n",
       "      <td>0.31</td>\n",
       "      <td>O</td>\n",
       "    </tr>\n",
       "    <tr>\n",
       "      <th>1</th>\n",
       "      <td>-0.33</td>\n",
       "      <td>0.50</td>\n",
       "      <td>1</td>\n",
       "      <td>0</td>\n",
       "      <td>0</td>\n",
       "      <td>0</td>\n",
       "      <td>1.0</td>\n",
       "      <td>-1</td>\n",
       "      <td>0.50</td>\n",
       "      <td>N</td>\n",
       "    </tr>\n",
       "    <tr>\n",
       "      <th>2</th>\n",
       "      <td>-0.33</td>\n",
       "      <td>0.75</td>\n",
       "      <td>0</td>\n",
       "      <td>1</td>\n",
       "      <td>1</td>\n",
       "      <td>0</td>\n",
       "      <td>1.0</td>\n",
       "      <td>-1</td>\n",
       "      <td>0.38</td>\n",
       "      <td>N</td>\n",
       "    </tr>\n",
       "    <tr>\n",
       "      <th>3</th>\n",
       "      <td>-0.33</td>\n",
       "      <td>0.67</td>\n",
       "      <td>1</td>\n",
       "      <td>1</td>\n",
       "      <td>0</td>\n",
       "      <td>0</td>\n",
       "      <td>0.8</td>\n",
       "      <td>-1</td>\n",
       "      <td>0.50</td>\n",
       "      <td>O</td>\n",
       "    </tr>\n",
       "    <tr>\n",
       "      <th>4</th>\n",
       "      <td>-0.33</td>\n",
       "      <td>0.67</td>\n",
       "      <td>1</td>\n",
       "      <td>0</td>\n",
       "      <td>1</td>\n",
       "      <td>0</td>\n",
       "      <td>0.8</td>\n",
       "      <td>0</td>\n",
       "      <td>0.50</td>\n",
       "      <td>N</td>\n",
       "    </tr>\n",
       "    <tr>\n",
       "      <th>...</th>\n",
       "      <td>...</td>\n",
       "      <td>...</td>\n",
       "      <td>...</td>\n",
       "      <td>...</td>\n",
       "      <td>...</td>\n",
       "      <td>...</td>\n",
       "      <td>...</td>\n",
       "      <td>...</td>\n",
       "      <td>...</td>\n",
       "      <td>...</td>\n",
       "    </tr>\n",
       "    <tr>\n",
       "      <th>94</th>\n",
       "      <td>-1.00</td>\n",
       "      <td>0.67</td>\n",
       "      <td>1</td>\n",
       "      <td>0</td>\n",
       "      <td>0</td>\n",
       "      <td>0</td>\n",
       "      <td>1.0</td>\n",
       "      <td>-1</td>\n",
       "      <td>0.50</td>\n",
       "      <td>N</td>\n",
       "    </tr>\n",
       "    <tr>\n",
       "      <th>95</th>\n",
       "      <td>-1.00</td>\n",
       "      <td>0.61</td>\n",
       "      <td>1</td>\n",
       "      <td>0</td>\n",
       "      <td>0</td>\n",
       "      <td>0</td>\n",
       "      <td>0.8</td>\n",
       "      <td>0</td>\n",
       "      <td>0.50</td>\n",
       "      <td>N</td>\n",
       "    </tr>\n",
       "    <tr>\n",
       "      <th>96</th>\n",
       "      <td>-1.00</td>\n",
       "      <td>0.67</td>\n",
       "      <td>1</td>\n",
       "      <td>1</td>\n",
       "      <td>1</td>\n",
       "      <td>0</td>\n",
       "      <td>1.0</td>\n",
       "      <td>-1</td>\n",
       "      <td>0.31</td>\n",
       "      <td>N</td>\n",
       "    </tr>\n",
       "    <tr>\n",
       "      <th>97</th>\n",
       "      <td>-1.00</td>\n",
       "      <td>0.64</td>\n",
       "      <td>1</td>\n",
       "      <td>0</td>\n",
       "      <td>1</td>\n",
       "      <td>0</td>\n",
       "      <td>1.0</td>\n",
       "      <td>0</td>\n",
       "      <td>0.19</td>\n",
       "      <td>N</td>\n",
       "    </tr>\n",
       "    <tr>\n",
       "      <th>98</th>\n",
       "      <td>-1.00</td>\n",
       "      <td>0.69</td>\n",
       "      <td>0</td>\n",
       "      <td>1</td>\n",
       "      <td>1</td>\n",
       "      <td>0</td>\n",
       "      <td>0.6</td>\n",
       "      <td>-1</td>\n",
       "      <td>0.19</td>\n",
       "      <td>N</td>\n",
       "    </tr>\n",
       "  </tbody>\n",
       "</table>\n",
       "<p>99 rows × 10 columns</p>\n",
       "</div>"
      ],
      "text/plain": [
       "    -0.33  0.69  0  1  1.1  0.1  0.8  0.2  0.88  N\n",
       "0   -0.33  0.94  1  0    1    0  0.8    1  0.31  O\n",
       "1   -0.33  0.50  1  0    0    0  1.0   -1  0.50  N\n",
       "2   -0.33  0.75  0  1    1    0  1.0   -1  0.38  N\n",
       "3   -0.33  0.67  1  1    0    0  0.8   -1  0.50  O\n",
       "4   -0.33  0.67  1  0    1    0  0.8    0  0.50  N\n",
       "..    ...   ... .. ..  ...  ...  ...  ...   ... ..\n",
       "94  -1.00  0.67  1  0    0    0  1.0   -1  0.50  N\n",
       "95  -1.00  0.61  1  0    0    0  0.8    0  0.50  N\n",
       "96  -1.00  0.67  1  1    1    0  1.0   -1  0.31  N\n",
       "97  -1.00  0.64  1  0    1    0  1.0    0  0.19  N\n",
       "98  -1.00  0.69  0  1    1    0  0.6   -1  0.19  N\n",
       "\n",
       "[99 rows x 10 columns]"
      ]
     },
     "execution_count": 36,
     "metadata": {},
     "output_type": "execute_result"
    }
   ],
   "source": [
    "fertility"
   ]
  },
  {
   "cell_type": "code",
   "execution_count": null,
   "metadata": {},
   "outputs": [],
   "source": []
  }
 ],
 "metadata": {
  "kernelspec": {
   "display_name": "Python 3 (ipykernel)",
   "language": "python",
   "name": "python3"
  },
  "language_info": {
   "codemirror_mode": {
    "name": "ipython",
    "version": 3
   },
   "file_extension": ".py",
   "mimetype": "text/x-python",
   "name": "python",
   "nbconvert_exporter": "python",
   "pygments_lexer": "ipython3",
   "version": "3.10.8"
  },
  "toc": {
   "base_numbering": 1,
   "nav_menu": {},
   "number_sections": true,
   "sideBar": true,
   "skip_h1_title": false,
   "title_cell": "Table of Contents",
   "title_sidebar": "Contents",
   "toc_cell": true,
   "toc_position": {},
   "toc_section_display": true,
   "toc_window_display": false
  },
  "varInspector": {
   "cols": {
    "lenName": 16,
    "lenType": 16,
    "lenVar": 40
   },
   "kernels_config": {
    "python": {
     "delete_cmd_postfix": "",
     "delete_cmd_prefix": "del ",
     "library": "var_list.py",
     "varRefreshCmd": "print(var_dic_list())"
    },
    "r": {
     "delete_cmd_postfix": ") ",
     "delete_cmd_prefix": "rm(",
     "library": "var_list.r",
     "varRefreshCmd": "cat(var_dic_list()) "
    }
   },
   "types_to_exclude": [
    "module",
    "function",
    "builtin_function_or_method",
    "instance",
    "_Feature"
   ],
   "window_display": false
  }
 },
 "nbformat": 4,
 "nbformat_minor": 4
}
